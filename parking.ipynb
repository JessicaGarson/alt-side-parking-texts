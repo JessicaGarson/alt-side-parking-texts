{
 "cells": [
  {
   "cell_type": "code",
   "execution_count": 3,
   "metadata": {},
   "outputs": [],
   "source": [
    "import datetime\n",
    "import pandas as pd\n",
    "from searchtweets import ResultStream, gen_rule_payload, load_credentials\n",
    "from twilio_connect import twilio_connect, send_message"
   ]
  },
  {
   "cell_type": "code",
   "execution_count": 4,
   "metadata": {},
   "outputs": [],
   "source": [
    "preiumn_search_args = load_credentials(filename=\"secret.yaml\", \n",
    "                                       yaml_key=\"search_tweets_api\",\n",
    "                                      env_overwrite=False)"
   ]
  },
  {
   "cell_type": "code",
   "execution_count": 5,
   "metadata": {},
   "outputs": [],
   "source": [
    "today = datetime.date.today()"
   ]
  },
  {
   "cell_type": "code",
   "execution_count": 6,
   "metadata": {},
   "outputs": [
    {
     "name": "stdout",
     "output_type": "stream",
     "text": [
      "2018-10-22\n"
     ]
    }
   ],
   "source": [
    "print(today)"
   ]
  },
  {
   "cell_type": "code",
   "execution_count": 8,
   "metadata": {},
   "outputs": [],
   "source": [
    "start_date = today + datetime.timedelta(-30)"
   ]
  },
  {
   "cell_type": "code",
   "execution_count": 9,
   "metadata": {},
   "outputs": [
    {
     "name": "stdout",
     "output_type": "stream",
     "text": [
      "2018-09-22\n"
     ]
    }
   ],
   "source": [
    "print(start_date)"
   ]
  },
  {
   "cell_type": "code",
   "execution_count": 10,
   "metadata": {},
   "outputs": [],
   "source": [
    "rule = gen_rule_payload(\"from:NYCASP\", \n",
    "                        from_date=str(start_date),\n",
    "                       to_date=str(today), \n",
    "                        results_per_call=500)"
   ]
  },
  {
   "cell_type": "code",
   "execution_count": 11,
   "metadata": {},
   "outputs": [
    {
     "name": "stdout",
     "output_type": "stream",
     "text": [
      "{\"query\": \"from:NYCASP\", \"maxResults\": 500, \"toDate\": \"201810220000\", \"fromDate\": \"201809220000\"}\n"
     ]
    }
   ],
   "source": [
    "print(rule)"
   ]
  },
  {
   "cell_type": "code",
   "execution_count": 13,
   "metadata": {},
   "outputs": [],
   "source": [
    "rs = ResultStream(rule_payload=rule,\n",
    "                 max_results=500,\n",
    "                 **preiumn_search_args)"
   ]
  },
  {
   "cell_type": "code",
   "execution_count": 14,
   "metadata": {},
   "outputs": [
    {
     "name": "stdout",
     "output_type": "stream",
     "text": [
      "ResultStream: \n",
      "\t{\n",
      "    \"username\": null,\n",
      "    \"endpoint\": \"https://api.twitter.com/1.1/tweets/search/30day/Testaroo.json\",\n",
      "    \"rule_payload\": {\n",
      "        \"query\": \"from:NYCASP\",\n",
      "        \"maxResults\": 500,\n",
      "        \"toDate\": \"201810220000\",\n",
      "        \"fromDate\": \"201809220000\"\n",
      "    },\n",
      "    \"tweetify\": true,\n",
      "    \"max_results\": 500\n",
      "}\n"
     ]
    }
   ],
   "source": [
    "print(rs)"
   ]
  },
  {
   "cell_type": "code",
   "execution_count": 16,
   "metadata": {},
   "outputs": [],
   "source": [
    "tweets = rs.stream()"
   ]
  },
  {
   "cell_type": "code",
   "execution_count": 17,
   "metadata": {},
   "outputs": [],
   "source": [
    "list_tweets = list(tweets)"
   ]
  },
  {
   "cell_type": "code",
   "execution_count": 26,
   "metadata": {},
   "outputs": [
    {
     "name": "stdout",
     "output_type": "stream",
     "text": [
      "#NYCASP rules will be in effect tomorrow, Monday, October 22.\n",
      "\n",
      "#NYCASP rules are in effect today, October 20.\n",
      "\n",
      "#NYCASP rules will be in effect tomorrow, Saturday, October 20.\n",
      "\n",
      "#NYCASP rules are in effect today, October 19.\n",
      "\n",
      "#NYCASP rules will be in effect tomorrow, Friday, October 19.\n",
      "\n",
      "#NYCASP rules are in effect today, October 18\n",
      "\n",
      "#NYCASP rules will be in effcet tomorrow, Thursday, October 18.\n",
      "\n",
      "#NYCASP rules  are in effect today, October 17.\n",
      "\n",
      "#NYCASP rules will be in effect tomorrow, Wednesdsay, October 17.\n",
      "\n",
      "#NYCASP rules are in effect today, October 16.\n",
      "\n",
      "#NYCASP rules will be in effect tomorrow, Tuesday, October 16.\n",
      "\n",
      "#NYCASP rules are in effect today, October 15.\n",
      "\n",
      "#NYCASP rules will be in effect tomorrow, Monday, October 15.\n",
      "\n",
      "#NYCASP rules are in effect today, October 13.\n",
      "\n",
      "#NYCASP rules will be in effect tomorrow, Saturday, October 13.\n",
      "\n",
      "#NYCASP rules are in effect today, October 12.\n",
      "\n",
      "#NYCASP ruless will be in effect tomorrow, Friday, October 12.\n",
      "\n",
      "#NYCASP rules are in effect today, October 11.\n",
      "\n",
      "#NYCASP rules will be in effect tomorrow, Thursday, October 11.\n",
      "\n",
      "#NYCASP rules are in effect today, October 10.\n",
      "\n",
      "#NYCASP rules will be in effect tomorrow, Wednesday, October 10.\n",
      "\n",
      "#NYCASP rules are in effect today, October 9.\n",
      "\n",
      "#NYCASP rules will be in effect tomorrow, Tuesday, October 9.\n",
      "\n",
      "#NYCASP rules are suspended today, October 8. Parking meters are in effect.\n",
      "\n",
      "#NYCASP rules will be suspended tomorrow, Monday, October 8 for  Columbus Day. Parking meters will be in effect.\n",
      "\n",
      "#NYCASP rules are in effect today, October 6.\n",
      "\n",
      "#NYCASP rules will be in effcet tomorrow, Saturday, October 6.\n",
      "\n",
      "#NYCASP rules are in effect today, October 5.\n",
      "\n",
      "#NYCASP rules will be in effect tomorrow, Friday, October 5.\n",
      "\n",
      "#NYCASP rules are in effect today, October 4.\n",
      "\n",
      "#NYCASP rules will be in effect tomorrow, Thursday, October 4.\n",
      "\n",
      "#NYCASP rules are in effect today, October 3.\n",
      "\n",
      "#NYCASP rules will be in effect tomorrow, Wednesday, October 3.\n",
      "\n",
      "#NYCASP rules are suspended today, October 2 for Simchas Torah. Parking meters are in effect.\n",
      "\n",
      "#NYCASP rules will be suspended tomorrow, Tuesday, October 2 for Simchas Torah. Parking meters will be in effect.\n",
      "\n",
      "#NYCASP rules are suspended today, October 1 for Shemini Atzereth. Parking meters are in effect.\n",
      "\n",
      "#NYCASP rules will be suspended tomorrow, Monday, October 1 for Shemini Atzereth. Parking meters will be in effect.\n",
      "\n",
      "#NYCASP rules are in effect today, September 29.\n",
      "\n",
      "#NYCASP rules will be in effect tomorrow, Saturday, September 29.\n",
      "\n",
      "#NYCASP rules are in effect today, September 28.\n",
      "\n",
      "#NYCASP rules will be in effect tomorrow, Friday, September 28.\n",
      "\n",
      "#NYCASP rules are in effect today, September 27.\n",
      "\n",
      "#NYCASP rules will be in effect tomorrow, Thursday, September 27.\n",
      "\n",
      "#NYCASP rules are in effect today, September 26.\n",
      "\n",
      "#NYCASP rules will be in effect tomorrow, Wednesday, September 26.\n",
      "\n",
      "#NYCASP rules are suspended today, September 25 for Succoth. Parking meters are in effect.\n",
      "\n",
      "#NYCASP rules will be suspended tomorrow, Tuesday, September 25 for Succoth. Parking meters will be in effect.\n",
      "\n",
      "#NYCASP rules are suspended today, September 24 and Tuesday, September 25 for Succoth. Parking meters are in effect.\n",
      "\n",
      "#NYCASP rules will be suspended tomorrow, Monday, September 24 and Tuesday, September 25 for Succoth. Parking meters will be in effect.\n",
      "\n",
      "#NYCASP rules are in effect today, September 22.\n",
      "\n"
     ]
    }
   ],
   "source": [
    "[print(tweet.all_text, end='\\n\\n') for tweet in list_tweets[0:100]];"
   ]
  },
  {
   "cell_type": "code",
   "execution_count": 27,
   "metadata": {},
   "outputs": [],
   "source": [
    "tweet_text = []\n",
    "tweet_date = []"
   ]
  },
  {
   "cell_type": "code",
   "execution_count": 28,
   "metadata": {},
   "outputs": [],
   "source": [
    "for tweet in list_tweets:\n",
    "    tweet_text.append(tweet['text'])\n",
    "    tweet_date.append(tweet['created_at'])"
   ]
  },
  {
   "cell_type": "code",
   "execution_count": 29,
   "metadata": {},
   "outputs": [],
   "source": [
    "df = pd.DataFrame({'tweet': tweet_text, 'date': tweet_date})"
   ]
  },
  {
   "cell_type": "code",
   "execution_count": 30,
   "metadata": {},
   "outputs": [
    {
     "data": {
      "text/html": [
       "<div>\n",
       "<style scoped>\n",
       "    .dataframe tbody tr th:only-of-type {\n",
       "        vertical-align: middle;\n",
       "    }\n",
       "\n",
       "    .dataframe tbody tr th {\n",
       "        vertical-align: top;\n",
       "    }\n",
       "\n",
       "    .dataframe thead th {\n",
       "        text-align: right;\n",
       "    }\n",
       "</style>\n",
       "<table border=\"1\" class=\"dataframe\">\n",
       "  <thead>\n",
       "    <tr style=\"text-align: right;\">\n",
       "      <th></th>\n",
       "      <th>tweet</th>\n",
       "      <th>date</th>\n",
       "    </tr>\n",
       "  </thead>\n",
       "  <tbody>\n",
       "    <tr>\n",
       "      <th>0</th>\n",
       "      <td>#NYCASP rules will be in effect tomorrow, Mond...</td>\n",
       "      <td>Sun Oct 21 20:00:34 +0000 2018</td>\n",
       "    </tr>\n",
       "    <tr>\n",
       "      <th>1</th>\n",
       "      <td>#NYCASP rules are in effect today, October 20.</td>\n",
       "      <td>Sat Oct 20 11:30:14 +0000 2018</td>\n",
       "    </tr>\n",
       "    <tr>\n",
       "      <th>2</th>\n",
       "      <td>#NYCASP rules will be in effect tomorrow, Satu...</td>\n",
       "      <td>Fri Oct 19 20:01:14 +0000 2018</td>\n",
       "    </tr>\n",
       "    <tr>\n",
       "      <th>3</th>\n",
       "      <td>#NYCASP rules are in effect today, October 19.</td>\n",
       "      <td>Fri Oct 19 11:30:28 +0000 2018</td>\n",
       "    </tr>\n",
       "    <tr>\n",
       "      <th>4</th>\n",
       "      <td>#NYCASP rules will be in effect tomorrow, Frid...</td>\n",
       "      <td>Thu Oct 18 20:01:06 +0000 2018</td>\n",
       "    </tr>\n",
       "  </tbody>\n",
       "</table>\n",
       "</div>"
      ],
      "text/plain": [
       "                                               tweet  \\\n",
       "0  #NYCASP rules will be in effect tomorrow, Mond...   \n",
       "1     #NYCASP rules are in effect today, October 20.   \n",
       "2  #NYCASP rules will be in effect tomorrow, Satu...   \n",
       "3     #NYCASP rules are in effect today, October 19.   \n",
       "4  #NYCASP rules will be in effect tomorrow, Frid...   \n",
       "\n",
       "                             date  \n",
       "0  Sun Oct 21 20:00:34 +0000 2018  \n",
       "1  Sat Oct 20 11:30:14 +0000 2018  \n",
       "2  Fri Oct 19 20:01:14 +0000 2018  \n",
       "3  Fri Oct 19 11:30:28 +0000 2018  \n",
       "4  Thu Oct 18 20:01:06 +0000 2018  "
      ]
     },
     "execution_count": 30,
     "metadata": {},
     "output_type": "execute_result"
    }
   ],
   "source": [
    "df.head()"
   ]
  },
  {
   "cell_type": "code",
   "execution_count": 23,
   "metadata": {},
   "outputs": [],
   "source": [
    "client = twilio_connect()"
   ]
  },
  {
   "cell_type": "code",
   "execution_count": 24,
   "metadata": {},
   "outputs": [],
   "source": [
    "if 'suspended' and 'tommorrow' in df['tweet'].values[0]:\n",
    "    send_message(client=client)"
   ]
  }
 ],
 "metadata": {
  "kernelspec": {
   "display_name": "Python 3",
   "language": "python",
   "name": "python3"
  },
  "language_info": {
   "codemirror_mode": {
    "name": "ipython",
    "version": 3
   },
   "file_extension": ".py",
   "mimetype": "text/x-python",
   "name": "python",
   "nbconvert_exporter": "python",
   "pygments_lexer": "ipython3",
   "version": "3.6.5"
  }
 },
 "nbformat": 4,
 "nbformat_minor": 2
}
